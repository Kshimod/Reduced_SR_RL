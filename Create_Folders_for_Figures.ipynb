{
 "cells": [
  {
   "cell_type": "code",
   "execution_count": 1,
   "metadata": {},
   "outputs": [],
   "source": [
    "# Create folders to store figures\n",
    "import pathlib\n",
    "pathlib.Path('./Figure').mkdir()\n",
    "\n",
    "for k in range(10):\n",
    "    pathname = \"./Figure/Figure{}\".format(k+1)\n",
    "    if k != 9:\n",
    "        pathlib.Path(pathname).mkdir()\n",
    "    else:\n",
    "        pathlib.Path(\"./Figure/Supportive_Figures\").mkdir()"
   ]
  },
  {
   "cell_type": "code",
   "execution_count": null,
   "metadata": {},
   "outputs": [],
   "source": []
  }
 ],
 "metadata": {
  "kernelspec": {
   "display_name": "Python 3",
   "language": "python",
   "name": "python3"
  },
  "language_info": {
   "codemirror_mode": {
    "name": "ipython",
    "version": 3
   },
   "file_extension": ".py",
   "mimetype": "text/x-python",
   "name": "python",
   "nbconvert_exporter": "python",
   "pygments_lexer": "ipython3",
   "version": "3.8.5"
  }
 },
 "nbformat": 4,
 "nbformat_minor": 4
}
